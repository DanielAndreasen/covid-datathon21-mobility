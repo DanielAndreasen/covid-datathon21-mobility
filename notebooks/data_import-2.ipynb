{
 "cells": [
  {
   "cell_type": "code",
   "execution_count": 12,
   "metadata": {},
   "outputs": [],
   "source": [
    "import pandas as pd\n",
    "import json\n",
    "import numpy as np\n",
    "\n",
    "from itertools import product\n",
    "from tqdm.notebook import tqdm"
   ]
  },
  {
   "cell_type": "code",
   "execution_count": 13,
   "metadata": {},
   "outputs": [],
   "source": [
    "with open('telco_directed.json') as f:\n",
    "    data= json.load(f)"
   ]
  },
  {
   "cell_type": "code",
   "execution_count": 14,
   "metadata": {},
   "outputs": [],
   "source": [
    "#edge_list\n",
    "location_list = list(product(data['locations'],data['locations']))\n",
    "\n",
    "values = np.array(data['data'])\n",
    "\n",
    "df = pd.DataFrame()\n",
    "df['src'] = [i[0] for i in location_list]\n",
    "df['dst'] = [i[1] for i in location_list]\n",
    "\n",
    "for idx,date in enumerate(data['dates']):\n",
    "    \n",
    "    df[date] = values[:,idx]"
   ]
  },
  {
   "cell_type": "code",
   "execution_count": 15,
   "metadata": {},
   "outputs": [],
   "source": [
    "df = df.melt(id_vars=['src','dst'],var_name='day')"
   ]
  },
  {
   "cell_type": "code",
   "execution_count": 16,
   "metadata": {},
   "outputs": [
    {
     "data": {
      "text/html": [
       "<div>\n",
       "<style scoped>\n",
       "    .dataframe tbody tr th:only-of-type {\n",
       "        vertical-align: middle;\n",
       "    }\n",
       "\n",
       "    .dataframe tbody tr th {\n",
       "        vertical-align: top;\n",
       "    }\n",
       "\n",
       "    .dataframe thead th {\n",
       "        text-align: right;\n",
       "    }\n",
       "</style>\n",
       "<table border=\"1\" class=\"dataframe\">\n",
       "  <thead>\n",
       "    <tr style=\"text-align: right;\">\n",
       "      <th></th>\n",
       "      <th>src</th>\n",
       "      <th>dst</th>\n",
       "      <th>day</th>\n",
       "      <th>value</th>\n",
       "    </tr>\n",
       "  </thead>\n",
       "  <tbody>\n",
       "    <tr>\n",
       "      <th>0</th>\n",
       "      <td>Aabenraa</td>\n",
       "      <td>Aabenraa</td>\n",
       "      <td>2020-02-01 00:00:00</td>\n",
       "      <td>323162.099102</td>\n",
       "    </tr>\n",
       "    <tr>\n",
       "      <th>1</th>\n",
       "      <td>Aabenraa</td>\n",
       "      <td>Aalborg</td>\n",
       "      <td>2020-02-01 00:00:00</td>\n",
       "      <td>405.268442</td>\n",
       "    </tr>\n",
       "    <tr>\n",
       "      <th>2</th>\n",
       "      <td>Aabenraa</td>\n",
       "      <td>Albertslund</td>\n",
       "      <td>2020-02-01 00:00:00</td>\n",
       "      <td>0.000000</td>\n",
       "    </tr>\n",
       "    <tr>\n",
       "      <th>3</th>\n",
       "      <td>Aabenraa</td>\n",
       "      <td>Allerød</td>\n",
       "      <td>2020-02-01 00:00:00</td>\n",
       "      <td>0.000000</td>\n",
       "    </tr>\n",
       "    <tr>\n",
       "      <th>4</th>\n",
       "      <td>Aabenraa</td>\n",
       "      <td>Assens</td>\n",
       "      <td>2020-02-01 00:00:00</td>\n",
       "      <td>690.133217</td>\n",
       "    </tr>\n",
       "    <tr>\n",
       "      <th>...</th>\n",
       "      <td>...</td>\n",
       "      <td>...</td>\n",
       "      <td>...</td>\n",
       "      <td>...</td>\n",
       "    </tr>\n",
       "    <tr>\n",
       "      <th>4955659</th>\n",
       "      <td>Ærø</td>\n",
       "      <td>Vesthimmerland</td>\n",
       "      <td>2021-06-30 00:00:00</td>\n",
       "      <td>0.000000</td>\n",
       "    </tr>\n",
       "    <tr>\n",
       "      <th>4955660</th>\n",
       "      <td>Ærø</td>\n",
       "      <td>Viborg</td>\n",
       "      <td>2021-06-30 00:00:00</td>\n",
       "      <td>0.000000</td>\n",
       "    </tr>\n",
       "    <tr>\n",
       "      <th>4955661</th>\n",
       "      <td>Ærø</td>\n",
       "      <td>Vordingborg</td>\n",
       "      <td>2021-06-30 00:00:00</td>\n",
       "      <td>0.000000</td>\n",
       "    </tr>\n",
       "    <tr>\n",
       "      <th>4955662</th>\n",
       "      <td>Ærø</td>\n",
       "      <td>Århus</td>\n",
       "      <td>2021-06-30 00:00:00</td>\n",
       "      <td>0.000000</td>\n",
       "    </tr>\n",
       "    <tr>\n",
       "      <th>4955663</th>\n",
       "      <td>Ærø</td>\n",
       "      <td>Ærø</td>\n",
       "      <td>2021-06-30 00:00:00</td>\n",
       "      <td>75404.079412</td>\n",
       "    </tr>\n",
       "  </tbody>\n",
       "</table>\n",
       "<p>4955664 rows × 4 columns</p>\n",
       "</div>"
      ],
      "text/plain": [
       "              src             dst                  day          value\n",
       "0        Aabenraa        Aabenraa  2020-02-01 00:00:00  323162.099102\n",
       "1        Aabenraa         Aalborg  2020-02-01 00:00:00     405.268442\n",
       "2        Aabenraa     Albertslund  2020-02-01 00:00:00       0.000000\n",
       "3        Aabenraa         Allerød  2020-02-01 00:00:00       0.000000\n",
       "4        Aabenraa          Assens  2020-02-01 00:00:00     690.133217\n",
       "...           ...             ...                  ...            ...\n",
       "4955659       Ærø  Vesthimmerland  2021-06-30 00:00:00       0.000000\n",
       "4955660       Ærø          Viborg  2021-06-30 00:00:00       0.000000\n",
       "4955661       Ærø     Vordingborg  2021-06-30 00:00:00       0.000000\n",
       "4955662       Ærø           Århus  2021-06-30 00:00:00       0.000000\n",
       "4955663       Ærø             Ærø  2021-06-30 00:00:00   75404.079412\n",
       "\n",
       "[4955664 rows x 4 columns]"
      ]
     },
     "execution_count": 16,
     "metadata": {},
     "output_type": "execute_result"
    }
   ],
   "source": [
    "df"
   ]
  },
  {
   "cell_type": "code",
   "execution_count": 9,
   "metadata": {},
   "outputs": [
    {
     "data": {
      "text/plain": [
       "98"
      ]
     },
     "execution_count": 9,
     "metadata": {},
     "output_type": "execute_result"
    }
   ],
   "source": [
    "df['src'].nunique()"
   ]
  },
  {
   "cell_type": "code",
   "execution_count": 10,
   "metadata": {},
   "outputs": [
    {
     "data": {
      "text/plain": [
       "['data', 'locations', 'dates']"
      ]
     },
     "execution_count": 10,
     "metadata": {},
     "output_type": "execute_result"
    }
   ],
   "source": [
    "list(data.keys())"
   ]
  },
  {
   "cell_type": "code",
   "execution_count": 11,
   "metadata": {},
   "outputs": [
    {
     "data": {
      "text/plain": [
       "516"
      ]
     },
     "execution_count": 11,
     "metadata": {},
     "output_type": "execute_result"
    }
   ],
   "source": [
    "len(data['dates'])"
   ]
  },
  {
   "cell_type": "code",
   "execution_count": null,
   "metadata": {},
   "outputs": [],
   "source": []
  }
 ],
 "metadata": {
  "kernelspec": {
   "display_name": "Python 3",
   "language": "python",
   "name": "python3"
  },
  "language_info": {
   "codemirror_mode": {
    "name": "ipython",
    "version": 3
   },
   "file_extension": ".py",
   "mimetype": "text/x-python",
   "name": "python",
   "nbconvert_exporter": "python",
   "pygments_lexer": "ipython3",
   "version": "3.7.7"
  }
 },
 "nbformat": 4,
 "nbformat_minor": 4
}
