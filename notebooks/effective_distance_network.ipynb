{
 "cells": [
  {
   "cell_type": "code",
   "execution_count": 19,
   "id": "b69b8120",
   "metadata": {},
   "outputs": [],
   "source": [
    "import pandas as pd\n",
    "import matplotlib.pylab as plt\n",
    "import urllib.request, json \n",
    "from datetime import datetime\n",
    "import numpy as np\n",
    "from tqdm import tqdm\n",
    "import itertools\n",
    "%matplotlib widget\n",
    "FILENAME = 'https://covid19.compute.dtu.dk/data/telco_map_new.json'"
   ]
  },
  {
   "cell_type": "markdown",
   "id": "3db60b34-859e-4e3f-948b-99a640305bce",
   "metadata": {},
   "source": [
    "# Directed data"
   ]
  },
  {
   "cell_type": "code",
   "execution_count": 2,
   "id": "f08c8123-1f6b-460e-ab21-aea7a7cfbe4d",
   "metadata": {},
   "outputs": [],
   "source": [
    "FILENAME = 'https://covid19.compute.dtu.dk/data/telco_data.json'\n",
    "with urllib.request.urlopen(FILENAME) as url:\n",
    "    rawdata = json.loads(url.read().decode())"
   ]
  },
  {
   "cell_type": "code",
   "execution_count": 63,
   "id": "6506fdf0-b492-4d56-8536-a1c0b8a0dba7",
   "metadata": {},
   "outputs": [],
   "source": [
    "data = np.array(rawdata['data'])\n",
    "locations = rawdata['locations']\n",
    "dates = [datetime.fromisoformat(d) for d in rawdata['dates']]"
   ]
  },
  {
   "cell_type": "markdown",
   "id": "df314b6e-1707-4dd4-b66b-2ea88ed1eaca",
   "metadata": {},
   "source": [
    "  - data     : num [1:9604, 1:516] 323162 405 0 0 690 ...\n",
    "  - locations: chr [1:98] \"Aabenraa\" \"Aalborg\" \"Albertslund\" \"Allerød\" ...\n",
    "  - dates    : chr [1:516] \"2020-02-01 00:00:00\" \"2020-02-02 00:00:00\" \"2020-02-03 00:00:00\" \"2020-02-04 00:00:00\" ...\n",
    "  \n",
    "`data` is a matrix with columns corresponding to dates and rows corresponding to each unique origin-destination combination (location[1] -> location[1], location[1] -> location[2], location[1] -> location[3] … location[2] -> location[1], location[2] -> location[2] …)"
   ]
  },
  {
   "cell_type": "code",
   "execution_count": 4,
   "id": "0f5dcbf5-5466-440e-a6bd-eebd172990d8",
   "metadata": {},
   "outputs": [
    {
     "data": {
      "text/html": [
       "<div>\n",
       "<style scoped>\n",
       "    .dataframe tbody tr th:only-of-type {\n",
       "        vertical-align: middle;\n",
       "    }\n",
       "\n",
       "    .dataframe tbody tr th {\n",
       "        vertical-align: top;\n",
       "    }\n",
       "\n",
       "    .dataframe thead th {\n",
       "        text-align: right;\n",
       "    }\n",
       "</style>\n",
       "<table border=\"1\" class=\"dataframe\">\n",
       "  <thead>\n",
       "    <tr style=\"text-align: right;\">\n",
       "      <th></th>\n",
       "      <th>origin</th>\n",
       "      <th>destination</th>\n",
       "      <th>date</th>\n",
       "      <th>counts</th>\n",
       "    </tr>\n",
       "  </thead>\n",
       "  <tbody>\n",
       "    <tr>\n",
       "      <th>0</th>\n",
       "      <td>Aabenraa</td>\n",
       "      <td>Aabenraa</td>\n",
       "      <td>2020-02-01</td>\n",
       "      <td>323162.099102</td>\n",
       "    </tr>\n",
       "    <tr>\n",
       "      <th>1</th>\n",
       "      <td>Aabenraa</td>\n",
       "      <td>Aabenraa</td>\n",
       "      <td>2020-02-02</td>\n",
       "      <td>295328.638037</td>\n",
       "    </tr>\n",
       "    <tr>\n",
       "      <th>2</th>\n",
       "      <td>Aabenraa</td>\n",
       "      <td>Aabenraa</td>\n",
       "      <td>2020-02-03</td>\n",
       "      <td>388974.404547</td>\n",
       "    </tr>\n",
       "    <tr>\n",
       "      <th>3</th>\n",
       "      <td>Aabenraa</td>\n",
       "      <td>Aabenraa</td>\n",
       "      <td>2020-02-04</td>\n",
       "      <td>404667.087491</td>\n",
       "    </tr>\n",
       "    <tr>\n",
       "      <th>4</th>\n",
       "      <td>Aabenraa</td>\n",
       "      <td>Aabenraa</td>\n",
       "      <td>2020-02-05</td>\n",
       "      <td>407815.830703</td>\n",
       "    </tr>\n",
       "  </tbody>\n",
       "</table>\n",
       "</div>"
      ],
      "text/plain": [
       "     origin destination       date         counts\n",
       "0  Aabenraa    Aabenraa 2020-02-01  323162.099102\n",
       "1  Aabenraa    Aabenraa 2020-02-02  295328.638037\n",
       "2  Aabenraa    Aabenraa 2020-02-03  388974.404547\n",
       "3  Aabenraa    Aabenraa 2020-02-04  404667.087491\n",
       "4  Aabenraa    Aabenraa 2020-02-05  407815.830703"
      ]
     },
     "execution_count": 4,
     "metadata": {},
     "output_type": "execute_result"
    }
   ],
   "source": [
    "##ALL ORIGIN DESTINATION PAIRS\n",
    "origin_destination_pairs = np.array(list(itertools.product(locations, repeat=2)))\n",
    "\n",
    "##CONCATENATE WITH VALUES\n",
    "all_data = np.concatenate([origin_destination_pairs, data], axis=1, dtype='object')\n",
    "\n",
    "##BUILD DATAFRAME\n",
    "columns = ['origin','destination']+[datetime.fromisoformat(date_string) for date_string in rawdata['dates']]\n",
    "data_long = pd.DataFrame(all_data,columns=columns).set_index(['origin','destination']).stack().reset_index()\n",
    "data_long.columns = ['origin','destination','date','counts']\n",
    "data_long.head()"
   ]
  },
  {
   "cell_type": "code",
   "execution_count": 5,
   "id": "510f6b38-a9da-4d05-b471-f2dcf4de79ee",
   "metadata": {},
   "outputs": [
    {
     "data": {
      "application/vnd.jupyter.widget-view+json": {
       "model_id": "a2d431092c914c7f8fd253a1d07a27c2",
       "version_major": 2,
       "version_minor": 0
      },
      "text/plain": [
       "Canvas(toolbar=Toolbar(toolitems=[('Home', 'Reset original view', 'home', 'home'), ('Back', 'Back to previous …"
      ]
     },
     "metadata": {},
     "output_type": "display_data"
    }
   ],
   "source": [
    "fig, ax = plt.subplots(figsize = (10,4))\n",
    "data_long[(data_long.origin=='København') & (data_long.destination=='Frederiksberg')].set_index('date').plot(ax=ax,legend=False)\n",
    "data_long[(data_long.origin=='Frederiksberg') & (data_long.destination=='København')].set_index('date').plot(ax=ax,legend=False)\n",
    "plt.show()"
   ]
  },
  {
   "cell_type": "code",
   "execution_count": 6,
   "id": "a3545bd1-7a9a-4b53-a196-dcc8f7eedf53",
   "metadata": {},
   "outputs": [
    {
     "data": {
      "text/plain": [
       "(98, 98, 516)"
      ]
     },
     "execution_count": 6,
     "metadata": {},
     "output_type": "execute_result"
    }
   ],
   "source": [
    "num_locations = np.size(rawdata['locations'])\n",
    "num_dates = np.size(dates)\n",
    "data_3d = np.reshape(rawdata['data'], (num_locations, num_locations, num_dates))\n",
    "np.shape(data_3d)"
   ]
  },
  {
   "cell_type": "markdown",
   "id": "2f258e4c",
   "metadata": {},
   "source": [
    "# Build the network on a specific date"
   ]
  },
  {
   "cell_type": "code",
   "execution_count": 7,
   "id": "67736fe1-3651-48dd-813f-01af9e69d7ba",
   "metadata": {},
   "outputs": [],
   "source": [
    "from graph_tool import *\n",
    "import graph_tool.inference as gi\n",
    "import graph_tool.topology as gt\n",
    "import graph_tool.draw as gd"
   ]
  },
  {
   "cell_type": "code",
   "execution_count": 8,
   "id": "bd780eab-875d-427b-9c9f-ab0917db3dc6",
   "metadata": {},
   "outputs": [],
   "source": [
    "def getedgelist(data_long, date):\n",
    "    date_mask = data_long.date == date\n",
    "    edgelist = data_long.loc[ date_mask, [\"origin\", \"destination\", \"counts\"] ]\n",
    "    edgelist = edgelist.set_index([\"origin\", \"destination\"])\n",
    "    #edgelist.counts /= np.sum(edgelist.counts)\n",
    "    return edgelist\n",
    "#edgelist = getedgelist(data_long, data_long.loc[1,\"date\"])\n",
    "#edgelist.head()"
   ]
  },
  {
   "cell_type": "code",
   "execution_count": 9,
   "id": "de628b41-d890-4cb9-9e50-e79560cd7f6f",
   "metadata": {},
   "outputs": [],
   "source": [
    "def getgraph(locations):\n",
    "    num_locations = np.size(locations)\n",
    "    g = Graph(directed=True)\n",
    "    g.add_vertex(num_locations)\n",
    "    names = g.vertex_properties[\"names\"] = g.new_vertex_property(\"string\")\n",
    "    for i in range(num_locations):\n",
    "        names[i] = locations[i]\n",
    "        for j in range(num_locations):\n",
    "            if i != j:\n",
    "                g.add_edge(i,j)\n",
    "    \n",
    "    g.edge_properties[\"flow\"]         = g.new_edge_property(\"double\")\n",
    "    g.edge_properties[\"invflow\"]      = g.new_edge_property(\"double\")\n",
    "    g.vertex_properties[\"totalflow\"]  = g.new_vertex_property(\"double\")\n",
    "    g.edge_properties[\"localeffdist\"] = g.new_edge_property(\"double\")\n",
    "    g.edge_properties[\"effdist\"]      = g.new_edge_property(\"double\")\n",
    "    g.edge_properties[\"sp_flow\"]      = g.new_edge_property(\"double\")\n",
    "    g.edge_properties[\"sp_invflow\"]   = g.new_edge_property(\"double\")\n",
    "    return g\n",
    "#g = getgraph(locations)"
   ]
  },
  {
   "cell_type": "code",
   "execution_count": 10,
   "id": "87e890b7-5308-4c9a-be13-080b7ef22ff0",
   "metadata": {},
   "outputs": [],
   "source": [
    "def addflow(g, edgelist, num_locations):\n",
    "    mask    = g.new_edge_property(\"bool\")\n",
    "    names   = g.vertex_properties[\"names\"]\n",
    "    flow    = g.edge_properties[\"flow\"] \n",
    "    invflow = g.edge_properties[\"invflow\"]\n",
    "    \n",
    "    for i in range(num_locations):\n",
    "        for j in range(i+1, num_locations):\n",
    "            n = names[i]\n",
    "            m = names[j]\n",
    "            Fnm = edgelist.loc[(n,m),\"counts\"]\n",
    "            Fmn = edgelist.loc[(m,n),\"counts\"]\n",
    "            F = Fnm + Fmn\n",
    "            if F != 0:\n",
    "                for e in [g.edge(i,j), g.edge(j,i)]:\n",
    "                    flow[e] = F\n",
    "                    mask[e] = True\n",
    "                    invflow[e] = 1/flow[e]\n",
    "                \n",
    "    g.set_edge_filter(mask)\n",
    "    totalflow = g.vertex_properties[\"totalflow\"]\n",
    "    totalflow.a = g.get_out_degrees(range(num_locations), eweight=g.ep.flow)\n",
    "    return\n",
    "#addflow(g, edgelist, num_locations)"
   ]
  },
  {
   "cell_type": "code",
   "execution_count": 11,
   "id": "13243310-2fd0-4f4c-aaef-6756f8c0da01",
   "metadata": {},
   "outputs": [],
   "source": [
    "def filter_largest_component(g):\n",
    "    LC = gt.label_largest_component(g, directed=False)\n",
    "    g.set_vertex_filter(None)\n",
    "    return\n",
    "#filter_largest_component(g)"
   ]
  },
  {
   "cell_type": "code",
   "execution_count": 12,
   "id": "d9c679f6-130d-4f7b-9cd4-be88be6f9f68",
   "metadata": {},
   "outputs": [],
   "source": [
    "def add_local_effdist(g, edgelist, num_locations):\n",
    "    local_effdist = g.edge_properties[\"localeffdist\"]\n",
    "    totalflow = g.vertex_properties[\"totalflow\"]\n",
    "    flow = g.edge_properties[\"flow\"]\n",
    "    for s in g.vertices():\n",
    "        for e in s.out_edges():\n",
    "            local_effdist[e] = 1 - np.log(flow[e]) + np.log(totalflow[s])\n",
    "    return\n",
    "#add_local_effdist(g, edgelist, num_locations)"
   ]
  },
  {
   "cell_type": "code",
   "execution_count": 13,
   "id": "d44ea03c-c156-4c57-9a12-9b2d2caa2c9c",
   "metadata": {},
   "outputs": [],
   "source": [
    "def shortestdist(g):\n",
    "    effdist       = g.ep.effdist\n",
    "    sp_flow       = g.ep.sp_flow\n",
    "    sp_invflow    = g.ep.sp_invflow\n",
    "    \n",
    "    all_effdist = gt.shortest_distance(g, weights=g.ep.localeffdist)\n",
    "    all_sp_flow = gt.shortest_distance(g, weights=g.ep.flow)\n",
    "    all_sp_invflow = gt.shortest_distance(g, weights=g.ep.invflow)\n",
    "    \n",
    "    for e in g.edges():\n",
    "        s = e.source()\n",
    "        t = e.target()\n",
    "        effdist[e]    = all_effdist[s][t]\n",
    "        sp_flow[e]    = all_sp_flow[s][t]\n",
    "        sp_invflow[e] = all_sp_invflow[s][t]\n",
    "    return\n",
    "#shortestdist(g)"
   ]
  },
  {
   "cell_type": "code",
   "execution_count": 14,
   "id": "d8cf8d68-ed99-418e-8bbe-b23e900509e6",
   "metadata": {},
   "outputs": [],
   "source": [
    "def meandist(g, eproperty):\n",
    "    dists = g.edge_properties[eproperty]\n",
    "    mean_dists = float( np.mean( [dists[e] for e in g.edges()] ) )\n",
    "    return mean_dists"
   ]
  },
  {
   "cell_type": "markdown",
   "id": "db1740f1-bd6b-4166-9173-eea14466fff4",
   "metadata": {},
   "source": [
    "---"
   ]
  },
  {
   "cell_type": "code",
   "execution_count": 21,
   "id": "771295e9-b8cc-4cb0-bea9-4112e4a772c6",
   "metadata": {},
   "outputs": [
    {
     "name": "stderr",
     "output_type": "stream",
     "text": [
      "100%|██████████| 516/516 [08:46<00:00,  1.02s/it]\n"
     ]
    }
   ],
   "source": [
    "g = getgraph(locations)\n",
    "num_dates = np.size(dates)\n",
    "mean_effdists = np.zeros(num_dates)\n",
    "mean_invflow  = np.zeros(num_dates)\n",
    "mean_flow  = np.zeros(num_dates)\n",
    "graphs = []\n",
    "edgelists = []\n",
    "\n",
    "for k in tqdm(range(0,num_dates)):\n",
    "    edgelist = getedgelist(data_long, dates[k])\n",
    "    addflow(g, edgelist, num_locations)\n",
    "    filter_largest_component(g)\n",
    "    add_local_effdist(g, edgelist, num_locations)\n",
    "    shortestdist(g)\n",
    "    \n",
    "    mean_effdists[k] = meandist(g, \"effdist\")\n",
    "    mean_invflow[k]  = meandist(g, \"sp_invflow\")\n",
    "    mean_flow[k]     = meandist(g, \"sp_flow\")\n",
    "    graphs.append(g)\n",
    "    edgelists.append(edgelist)\n",
    "    \n",
    "    g.set_vertex_filter(None)\n",
    "    g.set_edge_filter(None)"
   ]
  },
  {
   "cell_type": "code",
   "execution_count": 30,
   "id": "ddf66192-84db-4ba7-91fa-ba874668c0fa",
   "metadata": {},
   "outputs": [],
   "source": [
    "%matplotlib inline"
   ]
  },
  {
   "cell_type": "code",
   "execution_count": 35,
   "id": "9e80fd1a-f831-44ef-96f9-de26c9c66ad9",
   "metadata": {},
   "outputs": [
    {
     "data": {
      "text/plain": [
       "datetime.datetime(2021, 2, 5, 0, 0)"
      ]
     },
     "execution_count": 35,
     "metadata": {},
     "output_type": "execute_result"
    }
   ],
   "source": [
    "dates[]"
   ]
  },
  {
   "cell_type": "code",
   "execution_count": 40,
   "id": "39d35226-7a75-4742-ae3e-094af6c1a6b2",
   "metadata": {},
   "outputs": [
    {
     "data": {
      "text/plain": [
       "[<matplotlib.lines.Line2D at 0x7fadeddf3a60>]"
      ]
     },
     "execution_count": 40,
     "metadata": {},
     "output_type": "execute_result"
    },
    {
     "data": {
      "image/png": "[encoded data removed]",
      "text/plain": [
       "<Figure size 432x288 with 1 Axes>"
      ]
     },
     "metadata": {
      "needs_background": "light"
     },
     "output_type": "display_data"
    }
   ],
   "source": [
    "plt.plot(dates, mean_effdists)"
   ]
  },
  {
   "cell_type": "code",
   "execution_count": 38,
   "id": "5c0e2860-a9a2-489a-956b-2ee34bbdcec6",
   "metadata": {},
   "outputs": [
    {
     "data": {
      "text/plain": [
       "[<matplotlib.lines.Line2D at 0x7fadedf79490>]"
      ]
     },
     "execution_count": 38,
     "metadata": {},
     "output_type": "execute_result"
    },
    {
     "data": {
      "image/png": "[encoded data removed]",
      "text/plain": [
       "<Figure size 432x288 with 1 Axes>"
      ]
     },
     "metadata": {
      "needs_background": "light"
     },
     "output_type": "display_data"
    }
   ],
   "source": [
    "plt.plot(dates[1:370], mean_effdists[1:370])"
   ]
  },
  {
   "cell_type": "code",
   "execution_count": 39,
   "id": "7c4c0904-b48a-474f-91af-bdbb5a15fce7",
   "metadata": {},
   "outputs": [
    {
     "data": {
      "image/png": "[encoded data removed]",
      "text/plain": [
       "<Figure size 432x288 with 1 Axes>"
      ]
     },
     "metadata": {
      "needs_background": "light"
     },
     "output_type": "display_data"
    }
   ],
   "source": [
    "plt.plot(dates, mean_invflow)\n",
    "plt.show()"
   ]
  },
  {
   "cell_type": "code",
   "execution_count": 66,
   "id": "4fcae3bd-7925-450c-b448-1fb9c7749fbc",
   "metadata": {},
   "outputs": [
    {
     "data": {
      "text/html": [
       "<div>\n",
       "<style scoped>\n",
       "    .dataframe tbody tr th:only-of-type {\n",
       "        vertical-align: middle;\n",
       "    }\n",
       "\n",
       "    .dataframe tbody tr th {\n",
       "        vertical-align: top;\n",
       "    }\n",
       "\n",
       "    .dataframe thead th {\n",
       "        text-align: right;\n",
       "    }\n",
       "</style>\n",
       "<table border=\"1\" class=\"dataframe\">\n",
       "  <thead>\n",
       "    <tr style=\"text-align: right;\">\n",
       "      <th></th>\n",
       "      <th></th>\n",
       "      <th></th>\n",
       "      <th>counts</th>\n",
       "      <th>effdist</th>\n",
       "      <th>shortespath</th>\n",
       "    </tr>\n",
       "    <tr>\n",
       "      <th>origin</th>\n",
       "      <th>destination</th>\n",
       "      <th>date</th>\n",
       "      <th></th>\n",
       "      <th></th>\n",
       "      <th></th>\n",
       "    </tr>\n",
       "  </thead>\n",
       "  <tbody>\n",
       "    <tr>\n",
       "      <th rowspan=\"5\" valign=\"top\">Aabenraa</th>\n",
       "      <th rowspan=\"5\" valign=\"top\">Aabenraa</th>\n",
       "      <th>2020-02-01</th>\n",
       "      <td>323162.099102</td>\n",
       "      <td>NaN</td>\n",
       "      <td>NaN</td>\n",
       "    </tr>\n",
       "    <tr>\n",
       "      <th>2020-02-02</th>\n",
       "      <td>295328.638037</td>\n",
       "      <td>NaN</td>\n",
       "      <td>NaN</td>\n",
       "    </tr>\n",
       "    <tr>\n",
       "      <th>2020-02-03</th>\n",
       "      <td>388974.404547</td>\n",
       "      <td>NaN</td>\n",
       "      <td>NaN</td>\n",
       "    </tr>\n",
       "    <tr>\n",
       "      <th>2020-02-04</th>\n",
       "      <td>404667.087491</td>\n",
       "      <td>NaN</td>\n",
       "      <td>NaN</td>\n",
       "    </tr>\n",
       "    <tr>\n",
       "      <th>2020-02-05</th>\n",
       "      <td>407815.830703</td>\n",
       "      <td>NaN</td>\n",
       "      <td>NaN</td>\n",
       "    </tr>\n",
       "  </tbody>\n",
       "</table>\n",
       "</div>"
      ],
      "text/plain": [
       "                                        counts  effdist  shortespath\n",
       "origin   destination date                                           \n",
       "Aabenraa Aabenraa    2020-02-01  323162.099102      NaN          NaN\n",
       "                     2020-02-02  295328.638037      NaN          NaN\n",
       "                     2020-02-03  388974.404547      NaN          NaN\n",
       "                     2020-02-04  404667.087491      NaN          NaN\n",
       "                     2020-02-05  407815.830703      NaN          NaN"
      ]
     },
     "execution_count": 66,
     "metadata": {},
     "output_type": "execute_result"
    }
   ],
   "source": [
    "df = data_long.copy()\n",
    "df[\"effdist\"] = np.NaN\n",
    "df[\"shortespath\"] = np.NaN\n",
    "df = df.set_index(['origin','destination','date'])\n",
    "df.head()"
   ]
  },
  {
   "cell_type": "code",
   "execution_count": null,
   "id": "aebd9027-4de3-4d2a-aa2d-91eaf71fbde0",
   "metadata": {},
   "outputs": [
    {
     "name": "stderr",
     "output_type": "stream",
     "text": [
      "  0%|          | 0/516 [00:00<?, ?it/s]"
     ]
    }
   ],
   "source": [
    "names    = g.vertex_properties[\"names\"]\n",
    "effdist  = g.ep.effdist\n",
    "shortest = g.ep.sp_invflow\n",
    "\n",
    "for d in tqdm(dates):\n",
    "    for (s,t) in g.iter_edges():\n",
    "        n = names[s]\n",
    "        m = names[t]\n",
    "        e = g.edge(s,t)\n",
    "        df.loc[(n,m,d), \"effdist\"] = effdist[e]\n",
    "        df.loc[(n,m,d), \"shortest\"] = shortest[e]"
   ]
  },
  {
   "cell_type": "code",
   "execution_count": null,
   "id": "2b3f65ba-3b4a-43ad-850c-427fb9295df2",
   "metadata": {},
   "outputs": [],
   "source": []
  }
 ],
 "metadata": {
  "kernelspec": {
   "display_name": "Python 3",
   "language": "python",
   "name": "python3"
  },
  "language_info": {
   "codemirror_mode": {
    "name": "ipython",
    "version": 3
   },
   "file_extension": ".py",
   "mimetype": "text/x-python",
   "name": "python",
   "nbconvert_exporter": "python",
   "pygments_lexer": "ipython3",
   "version": "3.9.6"
  }
 },
 "nbformat": 4,
 "nbformat_minor": 5
}
